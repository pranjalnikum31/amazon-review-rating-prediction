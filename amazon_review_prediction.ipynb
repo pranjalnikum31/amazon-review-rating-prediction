{
  "nbformat": 4,
  "nbformat_minor": 0,
  "metadata": {
    "colab": {
      "provenance": []
    },
    "kernelspec": {
      "name": "python3",
      "display_name": "Python 3"
    },
    "language_info": {
      "name": "python"
    }
  },
  "cells": [
    {
      "cell_type": "code",
      "execution_count": null,
      "metadata": {
        "colab": {
          "base_uri": "https://localhost:8080/"
        },
        "id": "oE1aHfHsixto",
        "outputId": "fd6fb153-5d2c-4640-aa34-85ed446e4808"
      },
      "outputs": [
        {
          "output_type": "stream",
          "name": "stdout",
          "text": [
            "Collecting ibm-cloud-sdk-core\n",
            "  Downloading ibm_cloud_sdk_core-3.24.2-py3-none-any.whl.metadata (8.7 kB)\n",
            "Collecting requests<3.0.0,>=2.32.4 (from ibm-cloud-sdk-core)\n",
            "  Downloading requests-2.32.4-py3-none-any.whl.metadata (4.9 kB)\n",
            "Requirement already satisfied: urllib3<3.0.0,>=2.4.0 in /usr/local/lib/python3.11/dist-packages (from ibm-cloud-sdk-core) (2.4.0)\n",
            "Requirement already satisfied: python_dateutil<3.0.0,>=2.9.0 in /usr/local/lib/python3.11/dist-packages (from ibm-cloud-sdk-core) (2.9.0.post0)\n",
            "Requirement already satisfied: PyJWT<3.0.0,>=2.10.1 in /usr/local/lib/python3.11/dist-packages (from ibm-cloud-sdk-core) (2.10.1)\n",
            "Requirement already satisfied: six>=1.5 in /usr/local/lib/python3.11/dist-packages (from python_dateutil<3.0.0,>=2.9.0->ibm-cloud-sdk-core) (1.17.0)\n",
            "Requirement already satisfied: charset_normalizer<4,>=2 in /usr/local/lib/python3.11/dist-packages (from requests<3.0.0,>=2.32.4->ibm-cloud-sdk-core) (3.4.2)\n",
            "Requirement already satisfied: idna<4,>=2.5 in /usr/local/lib/python3.11/dist-packages (from requests<3.0.0,>=2.32.4->ibm-cloud-sdk-core) (3.10)\n",
            "Requirement already satisfied: certifi>=2017.4.17 in /usr/local/lib/python3.11/dist-packages (from requests<3.0.0,>=2.32.4->ibm-cloud-sdk-core) (2025.6.15)\n",
            "Downloading ibm_cloud_sdk_core-3.24.2-py3-none-any.whl (75 kB)\n",
            "\u001b[2K   \u001b[90m━━━━━━━━━━━━━━━━━━━━━━━━━━━━━━━━━━━━━━━━\u001b[0m \u001b[32m75.8/75.8 kB\u001b[0m \u001b[31m1.8 MB/s\u001b[0m eta \u001b[36m0:00:00\u001b[0m\n",
            "\u001b[?25hDownloading requests-2.32.4-py3-none-any.whl (64 kB)\n",
            "\u001b[2K   \u001b[90m━━━━━━━━━━━━━━━━━━━━━━━━━━━━━━━━━━━━━━━━\u001b[0m \u001b[32m64.8/64.8 kB\u001b[0m \u001b[31m4.4 MB/s\u001b[0m eta \u001b[36m0:00:00\u001b[0m\n",
            "\u001b[?25hInstalling collected packages: requests, ibm-cloud-sdk-core\n",
            "  Attempting uninstall: requests\n",
            "    Found existing installation: requests 2.32.3\n",
            "    Uninstalling requests-2.32.3:\n",
            "      Successfully uninstalled requests-2.32.3\n",
            "\u001b[31mERROR: pip's dependency resolver does not currently take into account all the packages that are installed. This behaviour is the source of the following dependency conflicts.\n",
            "google-colab 1.0.0 requires requests==2.32.3, but you have requests 2.32.4 which is incompatible.\u001b[0m\u001b[31m\n",
            "\u001b[0mSuccessfully installed ibm-cloud-sdk-core-3.24.2 requests-2.32.4\n",
            "Prediction result:\n",
            "{\n",
            "  \"predictions\": [\n",
            "    {\n",
            "      \"fields\": [\n",
            "        \"prediction\",\n",
            "        \"probability\"\n",
            "      ],\n",
            "      \"values\": [\n",
            "        [\n",
            "          5.0,\n",
            "          [\n",
            "            0.000739128141831912,\n",
            "            0.004469948217700251,\n",
            "            0.01748057106723551,\n",
            "            0.29711381626910854,\n",
            "            0.6801965363041238\n",
            "          ]\n",
            "        ]\n",
            "      ]\n",
            "    }\n",
            "  ]\n",
            "}\n"
          ]
        }
      ],
      "source": [
        "!pip install ibm-cloud-sdk-core\n",
        "\n",
        "import json\n",
        "import requests\n",
        "from ibm_cloud_sdk_core.authenticators import IAMAuthenticator\n",
        "\n",
        "# Replace with your actual IAM API key\n",
        "apikey = \"ucwvKjb-l604GzYqma5g0lM5_C6GHJO_yLk1863seWvH\"\n",
        "\n",
        "# Replace with your actual scoring URL (public endpoint from deployment)\n",
        "scoring_url = \"https://au-syd.ml.cloud.ibm.com/ml/v4/deployments/9e4d454c-fc9c-4ba0-a0f8-ba7e4b6f683f/predictions?version=2021-05-01\"\n",
        "\n",
        "# Get IAM token\n",
        "authenticator = IAMAuthenticator(apikey)\n",
        "iam_token = authenticator.token_manager.get_token()\n",
        "\n",
        "# Create request headers\n",
        "headers = {\n",
        "    \"Content-Type\": \"application/json\",\n",
        "    \"Authorization\": \"Bearer \" + iam_token\n",
        "}\n",
        "\n",
        "# Example input to test your deployed model\n",
        "payload = {\n",
        "  \"input_data\": [\n",
        "    {\n",
        "      \"fields\": [\"brand\", \"name\", \"reviews.doRecommend\", \"reviews.text\"],\n",
        "      \"values\": [[\"Amazon\", \"All-New Fire HD 8 Tablet\", True, \"The display is amazing and battery life is great!\"]]\n",
        "    }\n",
        "  ]\n",
        "}\n",
        "\n",
        "# Send the prediction request\n",
        "response = requests.post(scoring_url, json=payload, headers=headers)\n",
        "\n",
        "# Output the prediction\n",
        "print(\"Prediction result:\")\n",
        "print(json.dumps(response.json(), indent=2))\n"
      ]
    }
  ]
}